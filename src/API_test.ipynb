{
 "cells": [
  {
   "cell_type": "code",
   "execution_count": 1,
   "id": "59f94790",
   "metadata": {},
   "outputs": [
    {
     "data": {
      "text/plain": [
       "{'data': [{'headers': ['Calories_predictions'],\n",
       "   'data': [[256.83962631225586], [301.2632635831833]]}],\n",
       " 'flag_index': None,\n",
       " 'updated_state': None,\n",
       " 'durations': [0.0509190559387207],\n",
       " 'avg_durations': [0.2521559238433838]}"
      ]
     },
     "execution_count": 1,
     "metadata": {},
     "output_type": "execute_result"
    }
   ],
   "source": [
    "import requests\n",
    "\n",
    "\n",
    "\n",
    "\n",
    "r = requests.post(url='http://127.0.0.1:7860/api/predict/',\n",
    "\n",
    "json={\"data\":\n",
    "\n",
    " [[[\"male\", 2, 3, 4, 5, 6, 11], [\"female\", 5, 6, 7, 8, 9, 10]]\n",
    "\n",
    "]})\n",
    "\n",
    "r.json()"
   ]
  }
 ],
 "metadata": {
  "kernelspec": {
   "display_name": "Python [conda env:research] *",
   "language": "python",
   "name": "conda-env-research-py"
  },
  "language_info": {
   "codemirror_mode": {
    "name": "ipython",
    "version": 3
   },
   "file_extension": ".py",
   "mimetype": "text/x-python",
   "name": "python",
   "nbconvert_exporter": "python",
   "pygments_lexer": "ipython3",
   "version": "3.9.12"
  }
 },
 "nbformat": 4,
 "nbformat_minor": 5
}
